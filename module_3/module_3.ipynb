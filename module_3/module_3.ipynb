{
 "cells": [
  {
   "cell_type": "markdown",
   "metadata": {},
   "source": [
    "![](https://www.pata.org/wp-content/uploads/2014/09/TripAdvisor_Logo-300x119.png)\n",
    "# Predict TripAdvisor Rating\n",
    "## В этом соревновании нам предстоит предсказать рейтинг ресторана в TripAdvisor\n",
    "**По ходу задачи:**\n",
    "* Прокачаем работу с pandas\n",
    "* Научимся работать с Kaggle Notebooks\n",
    "* Поймем как делать предобработку различных данных\n",
    "* Научимся работать с пропущенными данными (Nan)\n",
    "* Познакомимся с различными видами кодирования признаков\n",
    "* Немного попробуем [Feature Engineering](https://ru.wikipedia.org/wiki/Конструирование_признаков) (генерировать новые признаки)\n",
    "* И совсем немного затронем ML\n",
    "* И многое другое...   \n",
    "\n",
    "\n",
    "\n",
    "### И самое важное, все это вы сможете сделать самостоятельно!\n",
    "\n",
    "*Этот Ноутбук являетсся Примером/Шаблоном к этому соревнованию (Baseline) и не служит готовым решением!*   \n",
    "Вы можете использовать его как основу для построения своего решения.\n",
    "\n",
    "> что такое baseline решение, зачем оно нужно и почему предоставлять baseline к соревнованию стало важным стандартом на kaggle и других площадках.   \n",
    "**baseline** создается больше как шаблон, где можно посмотреть как происходит обращение с входящими данными и что нужно получить на выходе. При этом МЛ начинка может быть достаточно простой, просто для примера. Это помогает быстрее приступить к самому МЛ, а не тратить ценное время на чисто инженерные задачи. \n",
    "Также baseline являеться хорошей опорной точкой по метрике. Если твое решение хуже baseline - ты явно делаешь что-то не то и стоит попробовать другой путь) \n",
    "\n",
    "В контексте нашего соревнования baseline идет с небольшими примерами того, что можно делать с данными, и с инструкцией, что делать дальше, чтобы улучшить результат.  Вообще готовым решением это сложно назвать, так как используются всего 2 самых простых признака (а остальные исключаются)."
   ]
  },
  {
   "cell_type": "markdown",
   "metadata": {},
   "source": [
    "# import"
   ]
  },
  {
   "cell_type": "code",
   "execution_count": 1,
   "metadata": {
    "_cell_guid": "b1076dfc-b9ad-4769-8c92-a6c4dae69d19",
    "_uuid": "8f2839f25d086af736a60e9eeb907d3b93b6e0e5",
    "execution": {
     "iopub.execute_input": "2021-08-28T15:54:31.494983Z",
     "iopub.status.busy": "2021-08-28T15:54:31.493128Z",
     "iopub.status.idle": "2021-08-28T15:54:32.881956Z",
     "shell.execute_reply": "2021-08-28T15:54:32.881025Z",
     "shell.execute_reply.started": "2021-08-28T15:54:31.494893Z"
    }
   },
   "outputs": [],
   "source": [
    "# This Python 3 environment comes with many helpful analytics libraries installed\n",
    "# It is defined by the kaggle/python docker image: https://github.com/kaggle/docker-python\n",
    "# For example, here's several helpful packages to load in \n",
    "\n",
    "import numpy as np # linear algebra\n",
    "import pandas as pd # data processing, CSV file I/O (e.g. pd.read_csv)\n",
    "\n",
    "import matplotlib.pyplot as plt\n",
    "import seaborn as sns \n",
    "%matplotlib inline\n",
    "from sklearn.preprocessing import StandardScaler\n",
    "\n",
    "# Загружаем специальный удобный инструмент для разделения датасета:\n",
    "from sklearn.model_selection import train_test_split\n",
    "\n",
    "# Input data files are available in the \"../input/\" directory.\n",
    "# For example, running this (by clicking run or pressing Shift+Enter) will list all files under the input directory\n",
    "\n",
    "import os\n",
    "for dirname, _, filenames in os.walk('/kaggle/input'):\n",
    "    for filename in filenames:\n",
    "        print(os.path.join(dirname, filename))\n",
    "\n",
    "# Any results you write to the current directory are saved as output."
   ]
  },
  {
   "cell_type": "code",
   "execution_count": 2,
   "metadata": {
    "execution": {
     "iopub.execute_input": "2021-08-28T15:54:32.884877Z",
     "iopub.status.busy": "2021-08-28T15:54:32.884241Z",
     "iopub.status.idle": "2021-08-28T15:54:32.889433Z",
     "shell.execute_reply": "2021-08-28T15:54:32.888496Z",
     "shell.execute_reply.started": "2021-08-28T15:54:32.884805Z"
    }
   },
   "outputs": [],
   "source": [
    "# всегда фиксируйте RANDOM_SEED, чтобы ваши эксперименты были воспроизводимы!\n",
    "RANDOM_SEED = 42"
   ]
  },
  {
   "cell_type": "code",
   "execution_count": 3,
   "metadata": {
    "execution": {
     "iopub.execute_input": "2021-08-28T15:54:32.891610Z",
     "iopub.status.busy": "2021-08-28T15:54:32.891071Z",
     "iopub.status.idle": "2021-08-28T15:54:35.430966Z",
     "shell.execute_reply": "2021-08-28T15:54:35.429961Z",
     "shell.execute_reply.started": "2021-08-28T15:54:32.891550Z"
    }
   },
   "outputs": [],
   "source": [
    "# зафиксируем версию пакетов, чтобы эксперименты были воспроизводимы:\n",
    "!pip freeze > requirements.txt"
   ]
  },
  {
   "cell_type": "markdown",
   "metadata": {},
   "source": [
    "# DATA"
   ]
  },
  {
   "cell_type": "code",
   "execution_count": 4,
   "metadata": {
    "_cell_guid": "79c7e3d0-c299-4dcb-8224-4455121ee9b0",
    "_uuid": "d629ff2d2480ee46fbb7e2d37f6b5fab8052498a",
    "execution": {
     "iopub.execute_input": "2021-08-28T15:54:35.432827Z",
     "iopub.status.busy": "2021-08-28T15:54:35.432424Z",
     "iopub.status.idle": "2021-08-28T15:54:35.739807Z",
     "shell.execute_reply": "2021-08-28T15:54:35.738365Z",
     "shell.execute_reply.started": "2021-08-28T15:54:35.432694Z"
    }
   },
   "outputs": [
    {
     "ename": "FileNotFoundError",
     "evalue": "[Errno 2] No such file or directory: '/sample_submission.csv'",
     "output_type": "error",
     "traceback": [
      "\u001b[1;31m---------------------------------------------------------------------------\u001b[0m",
      "\u001b[1;31mFileNotFoundError\u001b[0m                         Traceback (most recent call last)",
      "\u001b[1;32m<ipython-input-4-a3e2673bd950>\u001b[0m in \u001b[0;36m<module>\u001b[1;34m\u001b[0m\n\u001b[0;32m      2\u001b[0m \u001b[0mdf_train\u001b[0m \u001b[1;33m=\u001b[0m \u001b[0mpd\u001b[0m\u001b[1;33m.\u001b[0m\u001b[0mread_csv\u001b[0m\u001b[1;33m(\u001b[0m\u001b[1;34m'main_task.csv'\u001b[0m\u001b[1;33m)\u001b[0m\u001b[1;33m\u001b[0m\u001b[1;33m\u001b[0m\u001b[0m\n\u001b[0;32m      3\u001b[0m \u001b[0mdf_test\u001b[0m \u001b[1;33m=\u001b[0m \u001b[0mpd\u001b[0m\u001b[1;33m.\u001b[0m\u001b[0mread_csv\u001b[0m\u001b[1;33m(\u001b[0m\u001b[1;34m'kaggle_task.csv'\u001b[0m\u001b[1;33m)\u001b[0m\u001b[1;33m\u001b[0m\u001b[1;33m\u001b[0m\u001b[0m\n\u001b[1;32m----> 4\u001b[1;33m \u001b[0msample_submission\u001b[0m \u001b[1;33m=\u001b[0m \u001b[0mpd\u001b[0m\u001b[1;33m.\u001b[0m\u001b[0mread_csv\u001b[0m\u001b[1;33m(\u001b[0m\u001b[1;34m'/sample_submission.csv'\u001b[0m\u001b[1;33m)\u001b[0m\u001b[1;33m\u001b[0m\u001b[1;33m\u001b[0m\u001b[0m\n\u001b[0m",
      "\u001b[1;32m~\\anaconda3\\lib\\site-packages\\pandas\\io\\parsers.py\u001b[0m in \u001b[0;36mread_csv\u001b[1;34m(filepath_or_buffer, sep, delimiter, header, names, index_col, usecols, squeeze, prefix, mangle_dupe_cols, dtype, engine, converters, true_values, false_values, skipinitialspace, skiprows, skipfooter, nrows, na_values, keep_default_na, na_filter, verbose, skip_blank_lines, parse_dates, infer_datetime_format, keep_date_col, date_parser, dayfirst, cache_dates, iterator, chunksize, compression, thousands, decimal, lineterminator, quotechar, quoting, doublequote, escapechar, comment, encoding, dialect, error_bad_lines, warn_bad_lines, delim_whitespace, low_memory, memory_map, float_precision)\u001b[0m\n\u001b[0;32m    684\u001b[0m     )\n\u001b[0;32m    685\u001b[0m \u001b[1;33m\u001b[0m\u001b[0m\n\u001b[1;32m--> 686\u001b[1;33m     \u001b[1;32mreturn\u001b[0m \u001b[0m_read\u001b[0m\u001b[1;33m(\u001b[0m\u001b[0mfilepath_or_buffer\u001b[0m\u001b[1;33m,\u001b[0m \u001b[0mkwds\u001b[0m\u001b[1;33m)\u001b[0m\u001b[1;33m\u001b[0m\u001b[1;33m\u001b[0m\u001b[0m\n\u001b[0m\u001b[0;32m    687\u001b[0m \u001b[1;33m\u001b[0m\u001b[0m\n\u001b[0;32m    688\u001b[0m \u001b[1;33m\u001b[0m\u001b[0m\n",
      "\u001b[1;32m~\\anaconda3\\lib\\site-packages\\pandas\\io\\parsers.py\u001b[0m in \u001b[0;36m_read\u001b[1;34m(filepath_or_buffer, kwds)\u001b[0m\n\u001b[0;32m    450\u001b[0m \u001b[1;33m\u001b[0m\u001b[0m\n\u001b[0;32m    451\u001b[0m     \u001b[1;31m# Create the parser.\u001b[0m\u001b[1;33m\u001b[0m\u001b[1;33m\u001b[0m\u001b[1;33m\u001b[0m\u001b[0m\n\u001b[1;32m--> 452\u001b[1;33m     \u001b[0mparser\u001b[0m \u001b[1;33m=\u001b[0m \u001b[0mTextFileReader\u001b[0m\u001b[1;33m(\u001b[0m\u001b[0mfp_or_buf\u001b[0m\u001b[1;33m,\u001b[0m \u001b[1;33m**\u001b[0m\u001b[0mkwds\u001b[0m\u001b[1;33m)\u001b[0m\u001b[1;33m\u001b[0m\u001b[1;33m\u001b[0m\u001b[0m\n\u001b[0m\u001b[0;32m    453\u001b[0m \u001b[1;33m\u001b[0m\u001b[0m\n\u001b[0;32m    454\u001b[0m     \u001b[1;32mif\u001b[0m \u001b[0mchunksize\u001b[0m \u001b[1;32mor\u001b[0m \u001b[0miterator\u001b[0m\u001b[1;33m:\u001b[0m\u001b[1;33m\u001b[0m\u001b[1;33m\u001b[0m\u001b[0m\n",
      "\u001b[1;32m~\\anaconda3\\lib\\site-packages\\pandas\\io\\parsers.py\u001b[0m in \u001b[0;36m__init__\u001b[1;34m(self, f, engine, **kwds)\u001b[0m\n\u001b[0;32m    944\u001b[0m             \u001b[0mself\u001b[0m\u001b[1;33m.\u001b[0m\u001b[0moptions\u001b[0m\u001b[1;33m[\u001b[0m\u001b[1;34m\"has_index_names\"\u001b[0m\u001b[1;33m]\u001b[0m \u001b[1;33m=\u001b[0m \u001b[0mkwds\u001b[0m\u001b[1;33m[\u001b[0m\u001b[1;34m\"has_index_names\"\u001b[0m\u001b[1;33m]\u001b[0m\u001b[1;33m\u001b[0m\u001b[1;33m\u001b[0m\u001b[0m\n\u001b[0;32m    945\u001b[0m \u001b[1;33m\u001b[0m\u001b[0m\n\u001b[1;32m--> 946\u001b[1;33m         \u001b[0mself\u001b[0m\u001b[1;33m.\u001b[0m\u001b[0m_make_engine\u001b[0m\u001b[1;33m(\u001b[0m\u001b[0mself\u001b[0m\u001b[1;33m.\u001b[0m\u001b[0mengine\u001b[0m\u001b[1;33m)\u001b[0m\u001b[1;33m\u001b[0m\u001b[1;33m\u001b[0m\u001b[0m\n\u001b[0m\u001b[0;32m    947\u001b[0m \u001b[1;33m\u001b[0m\u001b[0m\n\u001b[0;32m    948\u001b[0m     \u001b[1;32mdef\u001b[0m \u001b[0mclose\u001b[0m\u001b[1;33m(\u001b[0m\u001b[0mself\u001b[0m\u001b[1;33m)\u001b[0m\u001b[1;33m:\u001b[0m\u001b[1;33m\u001b[0m\u001b[1;33m\u001b[0m\u001b[0m\n",
      "\u001b[1;32m~\\anaconda3\\lib\\site-packages\\pandas\\io\\parsers.py\u001b[0m in \u001b[0;36m_make_engine\u001b[1;34m(self, engine)\u001b[0m\n\u001b[0;32m   1176\u001b[0m     \u001b[1;32mdef\u001b[0m \u001b[0m_make_engine\u001b[0m\u001b[1;33m(\u001b[0m\u001b[0mself\u001b[0m\u001b[1;33m,\u001b[0m \u001b[0mengine\u001b[0m\u001b[1;33m=\u001b[0m\u001b[1;34m\"c\"\u001b[0m\u001b[1;33m)\u001b[0m\u001b[1;33m:\u001b[0m\u001b[1;33m\u001b[0m\u001b[1;33m\u001b[0m\u001b[0m\n\u001b[0;32m   1177\u001b[0m         \u001b[1;32mif\u001b[0m \u001b[0mengine\u001b[0m \u001b[1;33m==\u001b[0m \u001b[1;34m\"c\"\u001b[0m\u001b[1;33m:\u001b[0m\u001b[1;33m\u001b[0m\u001b[1;33m\u001b[0m\u001b[0m\n\u001b[1;32m-> 1178\u001b[1;33m             \u001b[0mself\u001b[0m\u001b[1;33m.\u001b[0m\u001b[0m_engine\u001b[0m \u001b[1;33m=\u001b[0m \u001b[0mCParserWrapper\u001b[0m\u001b[1;33m(\u001b[0m\u001b[0mself\u001b[0m\u001b[1;33m.\u001b[0m\u001b[0mf\u001b[0m\u001b[1;33m,\u001b[0m \u001b[1;33m**\u001b[0m\u001b[0mself\u001b[0m\u001b[1;33m.\u001b[0m\u001b[0moptions\u001b[0m\u001b[1;33m)\u001b[0m\u001b[1;33m\u001b[0m\u001b[1;33m\u001b[0m\u001b[0m\n\u001b[0m\u001b[0;32m   1179\u001b[0m         \u001b[1;32melse\u001b[0m\u001b[1;33m:\u001b[0m\u001b[1;33m\u001b[0m\u001b[1;33m\u001b[0m\u001b[0m\n\u001b[0;32m   1180\u001b[0m             \u001b[1;32mif\u001b[0m \u001b[0mengine\u001b[0m \u001b[1;33m==\u001b[0m \u001b[1;34m\"python\"\u001b[0m\u001b[1;33m:\u001b[0m\u001b[1;33m\u001b[0m\u001b[1;33m\u001b[0m\u001b[0m\n",
      "\u001b[1;32m~\\anaconda3\\lib\\site-packages\\pandas\\io\\parsers.py\u001b[0m in \u001b[0;36m__init__\u001b[1;34m(self, src, **kwds)\u001b[0m\n\u001b[0;32m   2006\u001b[0m         \u001b[0mkwds\u001b[0m\u001b[1;33m[\u001b[0m\u001b[1;34m\"usecols\"\u001b[0m\u001b[1;33m]\u001b[0m \u001b[1;33m=\u001b[0m \u001b[0mself\u001b[0m\u001b[1;33m.\u001b[0m\u001b[0musecols\u001b[0m\u001b[1;33m\u001b[0m\u001b[1;33m\u001b[0m\u001b[0m\n\u001b[0;32m   2007\u001b[0m \u001b[1;33m\u001b[0m\u001b[0m\n\u001b[1;32m-> 2008\u001b[1;33m         \u001b[0mself\u001b[0m\u001b[1;33m.\u001b[0m\u001b[0m_reader\u001b[0m \u001b[1;33m=\u001b[0m \u001b[0mparsers\u001b[0m\u001b[1;33m.\u001b[0m\u001b[0mTextReader\u001b[0m\u001b[1;33m(\u001b[0m\u001b[0msrc\u001b[0m\u001b[1;33m,\u001b[0m \u001b[1;33m**\u001b[0m\u001b[0mkwds\u001b[0m\u001b[1;33m)\u001b[0m\u001b[1;33m\u001b[0m\u001b[1;33m\u001b[0m\u001b[0m\n\u001b[0m\u001b[0;32m   2009\u001b[0m         \u001b[0mself\u001b[0m\u001b[1;33m.\u001b[0m\u001b[0munnamed_cols\u001b[0m \u001b[1;33m=\u001b[0m \u001b[0mself\u001b[0m\u001b[1;33m.\u001b[0m\u001b[0m_reader\u001b[0m\u001b[1;33m.\u001b[0m\u001b[0munnamed_cols\u001b[0m\u001b[1;33m\u001b[0m\u001b[1;33m\u001b[0m\u001b[0m\n\u001b[0;32m   2010\u001b[0m \u001b[1;33m\u001b[0m\u001b[0m\n",
      "\u001b[1;32mpandas\\_libs\\parsers.pyx\u001b[0m in \u001b[0;36mpandas._libs.parsers.TextReader.__cinit__\u001b[1;34m()\u001b[0m\n",
      "\u001b[1;32mpandas\\_libs\\parsers.pyx\u001b[0m in \u001b[0;36mpandas._libs.parsers.TextReader._setup_parser_source\u001b[1;34m()\u001b[0m\n",
      "\u001b[1;31mFileNotFoundError\u001b[0m: [Errno 2] No such file or directory: '/sample_submission.csv'"
     ]
    }
   ],
   "source": [
    "DATA_DIR = '/kaggle/input/sf-dst-restaurant-rating/'\n",
    "df_train = pd.read_csv('main_task.csv')\n",
    "df_test = pd.read_csv('kaggle_task.csv')\n",
    "sample_submission = pd.read_csv('/sample_submission.csv')"
   ]
  },
  {
   "cell_type": "code",
   "execution_count": null,
   "metadata": {
    "execution": {
     "iopub.execute_input": "2021-08-28T15:54:35.742585Z",
     "iopub.status.busy": "2021-08-28T15:54:35.742093Z",
     "iopub.status.idle": "2021-08-28T15:54:35.788865Z",
     "shell.execute_reply": "2021-08-28T15:54:35.787732Z",
     "shell.execute_reply.started": "2021-08-28T15:54:35.742502Z"
    }
   },
   "outputs": [],
   "source": [
    "df_train.info()"
   ]
  },
  {
   "cell_type": "code",
   "execution_count": null,
   "metadata": {
    "execution": {
     "iopub.execute_input": "2021-08-28T15:54:35.794632Z",
     "iopub.status.busy": "2021-08-28T15:54:35.793945Z",
     "iopub.status.idle": "2021-08-28T15:54:35.823719Z",
     "shell.execute_reply": "2021-08-28T15:54:35.822935Z",
     "shell.execute_reply.started": "2021-08-28T15:54:35.794576Z"
    }
   },
   "outputs": [],
   "source": [
    "df_train.head(5)"
   ]
  },
  {
   "cell_type": "code",
   "execution_count": null,
   "metadata": {
    "execution": {
     "iopub.execute_input": "2021-08-28T15:54:35.827729Z",
     "iopub.status.busy": "2021-08-28T15:54:35.827129Z",
     "iopub.status.idle": "2021-08-28T15:54:35.849885Z",
     "shell.execute_reply": "2021-08-28T15:54:35.848250Z",
     "shell.execute_reply.started": "2021-08-28T15:54:35.827653Z"
    }
   },
   "outputs": [],
   "source": [
    "df_test.info()"
   ]
  },
  {
   "cell_type": "code",
   "execution_count": null,
   "metadata": {
    "execution": {
     "iopub.execute_input": "2021-08-28T15:54:35.851961Z",
     "iopub.status.busy": "2021-08-28T15:54:35.851527Z",
     "iopub.status.idle": "2021-08-28T15:54:35.874972Z",
     "shell.execute_reply": "2021-08-28T15:54:35.873578Z",
     "shell.execute_reply.started": "2021-08-28T15:54:35.851904Z"
    }
   },
   "outputs": [],
   "source": [
    "df_test.head(5)"
   ]
  },
  {
   "cell_type": "code",
   "execution_count": null,
   "metadata": {
    "execution": {
     "iopub.execute_input": "2021-08-28T15:54:35.877001Z",
     "iopub.status.busy": "2021-08-28T15:54:35.876607Z",
     "iopub.status.idle": "2021-08-28T15:54:35.893158Z",
     "shell.execute_reply": "2021-08-28T15:54:35.891739Z",
     "shell.execute_reply.started": "2021-08-28T15:54:35.876946Z"
    }
   },
   "outputs": [],
   "source": [
    "sample_submission.head(5)"
   ]
  },
  {
   "cell_type": "code",
   "execution_count": null,
   "metadata": {
    "execution": {
     "iopub.execute_input": "2021-08-28T15:54:35.895273Z",
     "iopub.status.busy": "2021-08-28T15:54:35.894918Z",
     "iopub.status.idle": "2021-08-28T15:54:35.916396Z",
     "shell.execute_reply": "2021-08-28T15:54:35.914016Z",
     "shell.execute_reply.started": "2021-08-28T15:54:35.895222Z"
    }
   },
   "outputs": [],
   "source": [
    "sample_submission.info()"
   ]
  },
  {
   "cell_type": "code",
   "execution_count": null,
   "metadata": {
    "execution": {
     "iopub.execute_input": "2021-08-28T15:54:35.918458Z",
     "iopub.status.busy": "2021-08-28T15:54:35.918042Z",
     "iopub.status.idle": "2021-08-28T15:54:35.977498Z",
     "shell.execute_reply": "2021-08-28T15:54:35.976787Z",
     "shell.execute_reply.started": "2021-08-28T15:54:35.918415Z"
    }
   },
   "outputs": [],
   "source": [
    "# ВАЖНО! дря корректной обработки признаков объединяем трейн и тест в один датасет\n",
    "df_train['sample'] = 1 # помечаем где у нас трейн\n",
    "df_test['sample'] = 0 # помечаем где у нас тест\n",
    "df_test['Rating'] = 0 # в тесте у нас нет значения Rating, мы его должны предсказать, по этому пока просто заполняем нулями\n",
    "\n",
    "data = df_test.append(df_train, sort=False).reset_index(drop=True) # объединяем\n",
    "data1=data.copy() # копия чтобы можно было восстановить город после get dummies\n",
    "# приведем названия колонок к удобным\n",
    "data.columns=['restaurant_id','city','cuisine_style','ranking',\n",
    "              'price_range','number_of_reviews','reviews','url_ta','id_ta','sample','Rating']\n",
    "data1.columns=['restaurant_id','city','cuisine_style','ranking',\n",
    "              'price_range','number_of_reviews','reviews','url_ta','id_ta','sample','Rating']"
   ]
  },
  {
   "cell_type": "code",
   "execution_count": null,
   "metadata": {
    "execution": {
     "iopub.execute_input": "2021-08-28T15:54:35.979039Z",
     "iopub.status.busy": "2021-08-28T15:54:35.978598Z",
     "iopub.status.idle": "2021-08-28T15:54:36.026888Z",
     "shell.execute_reply": "2021-08-28T15:54:36.025241Z",
     "shell.execute_reply.started": "2021-08-28T15:54:35.978995Z"
    }
   },
   "outputs": [],
   "source": [
    "data.info()"
   ]
  },
  {
   "cell_type": "markdown",
   "metadata": {},
   "source": [
    "Подробнее по признакам:\n",
    "* City: Город \n",
    "* Cuisine Style: Кухня\n",
    "* Ranking: Ранг ресторана относительно других ресторанов в этом городе\n",
    "* Price Range: Цены в ресторане в 3 категориях\n",
    "* Number of Reviews: Количество отзывов\n",
    "* Reviews: 2 последних отзыва и даты этих отзывов\n",
    "* URL_TA: страница ресторана на 'www.tripadvisor.com' \n",
    "* ID_TA: ID ресторана в TripAdvisor\n",
    "* Rating: Рейтинг ресторана"
   ]
  },
  {
   "cell_type": "code",
   "execution_count": null,
   "metadata": {
    "execution": {
     "iopub.execute_input": "2021-08-28T15:54:36.029930Z",
     "iopub.status.busy": "2021-08-28T15:54:36.029231Z",
     "iopub.status.idle": "2021-08-28T15:54:36.055888Z",
     "shell.execute_reply": "2021-08-28T15:54:36.054345Z",
     "shell.execute_reply.started": "2021-08-28T15:54:36.029591Z"
    }
   },
   "outputs": [],
   "source": [
    "data.sample(5)"
   ]
  },
  {
   "cell_type": "code",
   "execution_count": null,
   "metadata": {
    "execution": {
     "iopub.execute_input": "2021-08-28T15:54:36.059989Z",
     "iopub.status.busy": "2021-08-28T15:54:36.059644Z",
     "iopub.status.idle": "2021-08-28T15:54:36.066834Z",
     "shell.execute_reply": "2021-08-28T15:54:36.065793Z",
     "shell.execute_reply.started": "2021-08-28T15:54:36.059932Z"
    }
   },
   "outputs": [],
   "source": [
    "data.reviews[1]"
   ]
  },
  {
   "cell_type": "markdown",
   "metadata": {},
   "source": [
    "Как видим, большинство признаков у нас требует очистки и предварительной обработки."
   ]
  },
  {
   "cell_type": "markdown",
   "metadata": {},
   "source": [
    "# Cleaning and Prepping Data\n",
    "Обычно данные содержат в себе кучу мусора, который необходимо почистить, для того чтобы привести их в приемлемый формат. Чистка данных — это необходимый этап решения почти любой реальной задачи.   \n",
    "![](https://analyticsindiamag.com/wp-content/uploads/2018/01/data-cleaning.png)"
   ]
  },
  {
   "cell_type": "markdown",
   "metadata": {},
   "source": [
    "## 1. Обработка NAN \n",
    "У наличия пропусков могут быть разные причины, но пропуски нужно либо заполнить, либо исключить из набора полностью. Но с пропусками нужно быть внимательным, **даже отсутствие информации может быть важным признаком!**   \n",
    "По этому перед обработкой NAN лучше вынести информацию о наличии пропуска как отдельный признак "
   ]
  },
  {
   "cell_type": "code",
   "execution_count": null,
   "metadata": {
    "execution": {
     "iopub.execute_input": "2021-08-28T15:54:36.068780Z",
     "iopub.status.busy": "2021-08-28T15:54:36.068308Z",
     "iopub.status.idle": "2021-08-28T15:54:36.080812Z",
     "shell.execute_reply": "2021-08-28T15:54:36.079374Z",
     "shell.execute_reply.started": "2021-08-28T15:54:36.068734Z"
    }
   },
   "outputs": [],
   "source": [
    "# Для примера я возьму столбец Number of Reviews\n",
    "data['Number_of_Reviews_isNAN'] = pd.isna(data['number_of_reviews']).astype('uint8')"
   ]
  },
  {
   "cell_type": "code",
   "execution_count": null,
   "metadata": {
    "execution": {
     "iopub.execute_input": "2021-08-28T15:54:36.082594Z",
     "iopub.status.busy": "2021-08-28T15:54:36.082203Z",
     "iopub.status.idle": "2021-08-28T15:54:36.099300Z",
     "shell.execute_reply": "2021-08-28T15:54:36.098165Z",
     "shell.execute_reply.started": "2021-08-28T15:54:36.082526Z"
    }
   },
   "outputs": [],
   "source": [
    "data['Number_of_Reviews_isNAN']"
   ]
  },
  {
   "cell_type": "code",
   "execution_count": null,
   "metadata": {
    "execution": {
     "iopub.execute_input": "2021-08-28T15:54:36.101496Z",
     "iopub.status.busy": "2021-08-28T15:54:36.101227Z",
     "iopub.status.idle": "2021-08-28T15:54:36.113052Z",
     "shell.execute_reply": "2021-08-28T15:54:36.111642Z",
     "shell.execute_reply.started": "2021-08-28T15:54:36.101459Z"
    }
   },
   "outputs": [],
   "source": [
    "# Далее заполняем пропуски 0, вы можете попробовать заполнением средним или средним по городу и тд...\n",
    "data['number_of_reviews'].fillna(0, inplace=True)"
   ]
  },
  {
   "cell_type": "markdown",
   "metadata": {},
   "source": [
    "### 2. Обработка признаков\n",
    "Для начала посмотрим какие признаки у нас могут быть категориальными."
   ]
  },
  {
   "cell_type": "code",
   "execution_count": null,
   "metadata": {
    "execution": {
     "iopub.execute_input": "2021-08-28T15:54:36.115571Z",
     "iopub.status.busy": "2021-08-28T15:54:36.115269Z",
     "iopub.status.idle": "2021-08-28T15:54:36.263100Z",
     "shell.execute_reply": "2021-08-28T15:54:36.262057Z",
     "shell.execute_reply.started": "2021-08-28T15:54:36.115533Z"
    }
   },
   "outputs": [],
   "source": [
    "data.nunique(dropna=False)"
   ]
  },
  {
   "cell_type": "markdown",
   "metadata": {},
   "source": [
    "Какие признаки можно считать категориальными?"
   ]
  },
  {
   "cell_type": "markdown",
   "metadata": {},
   "source": [
    "Для кодирования категориальных признаков есть множество подходов:\n",
    "* Label Encoding\n",
    "* One-Hot Encoding\n",
    "* Target Encoding\n",
    "* Hashing\n",
    "\n",
    "Выбор кодирования зависит от признака и выбраной модели.\n",
    "Не будем сейчас сильно погружаться в эту тематику, давайте посмотрим лучше пример с One-Hot Encoding:\n",
    "![](https://i.imgur.com/mtimFxh.png)"
   ]
  },
  {
   "cell_type": "code",
   "execution_count": null,
   "metadata": {
    "execution": {
     "iopub.execute_input": "2021-08-28T15:54:36.264699Z",
     "iopub.status.busy": "2021-08-28T15:54:36.264413Z",
     "iopub.status.idle": "2021-08-28T15:54:36.308457Z",
     "shell.execute_reply": "2021-08-28T15:54:36.307314Z",
     "shell.execute_reply.started": "2021-08-28T15:54:36.264633Z"
    }
   },
   "outputs": [],
   "source": [
    "# для One-Hot Encoding в pandas есть готовая функция - get_dummies. Особенно радует параметр dummy_na\n",
    "data = pd.get_dummies(data, columns=[ 'city',], dummy_na=True)\n",
    "data['city']=data1['city']"
   ]
  },
  {
   "cell_type": "code",
   "execution_count": null,
   "metadata": {
    "execution": {
     "iopub.execute_input": "2021-08-28T15:54:36.310634Z",
     "iopub.status.busy": "2021-08-28T15:54:36.310247Z",
     "iopub.status.idle": "2021-08-28T15:54:36.347509Z",
     "shell.execute_reply": "2021-08-28T15:54:36.346336Z",
     "shell.execute_reply.started": "2021-08-28T15:54:36.310560Z"
    }
   },
   "outputs": [],
   "source": [
    "data.head(5)"
   ]
  },
  {
   "cell_type": "code",
   "execution_count": null,
   "metadata": {
    "execution": {
     "iopub.execute_input": "2021-08-28T15:54:36.350060Z",
     "iopub.status.busy": "2021-08-28T15:54:36.349668Z",
     "iopub.status.idle": "2021-08-28T15:54:36.402409Z",
     "shell.execute_reply": "2021-08-28T15:54:36.401218Z",
     "shell.execute_reply.started": "2021-08-28T15:54:36.349981Z"
    }
   },
   "outputs": [],
   "source": [
    "data.sample(5)"
   ]
  },
  {
   "cell_type": "markdown",
   "metadata": {},
   "source": [
    "#### Возьмем следующий признак \"Price Range\"."
   ]
  },
  {
   "cell_type": "code",
   "execution_count": null,
   "metadata": {
    "execution": {
     "iopub.execute_input": "2021-08-28T15:54:36.404080Z",
     "iopub.status.busy": "2021-08-28T15:54:36.403691Z",
     "iopub.status.idle": "2021-08-28T15:54:36.423422Z",
     "shell.execute_reply": "2021-08-28T15:54:36.422346Z",
     "shell.execute_reply.started": "2021-08-28T15:54:36.404039Z"
    }
   },
   "outputs": [],
   "source": [
    "data['price_range'].value_counts()"
   ]
  },
  {
   "cell_type": "markdown",
   "metadata": {},
   "source": [
    "По описанию 'Price Range' это - Цены в ресторане.  \n",
    "Их можно поставить по возрастанию (значит это не категориальный признак). А это значит, что их можно заменить последовательными числами, например 1,2,3  \n",
    "*Попробуйте сделать обработку этого признака уже самостоятельно!*"
   ]
  },
  {
   "cell_type": "code",
   "execution_count": null,
   "metadata": {
    "execution": {
     "iopub.execute_input": "2021-08-28T15:54:36.426460Z",
     "iopub.status.busy": "2021-08-28T15:54:36.425719Z",
     "iopub.status.idle": "2021-08-28T15:54:36.474918Z",
     "shell.execute_reply": "2021-08-28T15:54:36.473908Z",
     "shell.execute_reply.started": "2021-08-28T15:54:36.426312Z"
    }
   },
   "outputs": [],
   "source": [
    "# Ваша обработка 'Price Range'\n",
    "#функция для присвоения значений цен цифрам от одного до трех\n",
    "import random\n",
    "def price_ranges(df):\n",
    "    if df == '$':\n",
    "        return 1\n",
    "    elif df == '$$ - $$$':\n",
    "        return 2\n",
    "    elif df == '$$$$':\n",
    "        return 3\n",
    "\n",
    "#функция для заполнения NaN-ов\n",
    "def func(x):\n",
    "    if np.isnan(x):\n",
    "        return random.randint(1,3)\n",
    "    else:\n",
    "        return x\n",
    "# сделаем новый столбец price_range в цифрах \n",
    "data['price_range_num']=data['price_range'].apply(price_ranges)\n",
    "data['price_range_num']=data['price_range_num'].fillna(2.0)"
   ]
  },
  {
   "cell_type": "code",
   "execution_count": null,
   "metadata": {
    "execution": {
     "iopub.execute_input": "2021-08-28T15:54:36.477457Z",
     "iopub.status.busy": "2021-08-28T15:54:36.476901Z",
     "iopub.status.idle": "2021-08-28T15:54:36.493362Z",
     "shell.execute_reply": "2021-08-28T15:54:36.491331Z",
     "shell.execute_reply.started": "2021-08-28T15:54:36.477240Z"
    }
   },
   "outputs": [],
   "source": [
    "data['price_range_num'].value_counts() # проверим, какое распределение стало после"
   ]
  },
  {
   "cell_type": "markdown",
   "metadata": {},
   "source": [
    "> Для некоторых алгоритмов МЛ даже для не категориальных признаков можно применить One-Hot Encoding, и это может улучшить качество модели. Пробуйте разные подходы к кодированию признака - никто не знает заранее, что может взлететь."
   ]
  },
  {
   "cell_type": "markdown",
   "metadata": {},
   "source": [
    "### Обработать другие признаки вы должны самостоятельно!\n",
    "Для обработки других признаков вам возможно придется даже написать свою функцию, а может даже и не одну, но в этом и есть ваша практика в этом модуле!     \n",
    "Следуя подсказкам в модуле вы сможете более подробно узнать, как сделать эти приобразования."
   ]
  },
  {
   "cell_type": "markdown",
   "metadata": {},
   "source": [
    "## Кухни"
   ]
  },
  {
   "cell_type": "code",
   "execution_count": null,
   "metadata": {
    "execution": {
     "iopub.execute_input": "2021-08-28T15:54:36.500355Z",
     "iopub.status.busy": "2021-08-28T15:54:36.497618Z",
     "iopub.status.idle": "2021-08-28T15:54:37.045612Z",
     "shell.execute_reply": "2021-08-28T15:54:37.044701Z",
     "shell.execute_reply.started": "2021-08-28T15:54:36.499863Z"
    }
   },
   "outputs": [],
   "source": [
    "# тут ваш код на обработку других признаков\n",
    "data['cuisine_style']=data['cuisine_style'].fillna(\"['secret']\")\n",
    "data['cuisine_style']=data['cuisine_style'].apply(lambda x: eval(x))"
   ]
  },
  {
   "cell_type": "code",
   "execution_count": null,
   "metadata": {
    "execution": {
     "iopub.execute_input": "2021-08-28T15:54:37.047758Z",
     "iopub.status.busy": "2021-08-28T15:54:37.047207Z",
     "iopub.status.idle": "2021-08-28T15:54:37.654069Z",
     "shell.execute_reply": "2021-08-28T15:54:37.653380Z",
     "shell.execute_reply.started": "2021-08-28T15:54:37.047708Z"
    }
   },
   "outputs": [],
   "source": [
    "# множество с редко встречающимися кухнями (менее 0.01%) датасета\n",
    "data_rare=data.copy()\n",
    "data_rare=data_rare.explode('cuisine_style')\n",
    "rare_cuisine_dict = (data_rare['cuisine_style'].value_counts(\n",
    ")[data_rare['cuisine_style'].value_counts(normalize=True) <= 0.0001]).to_dict()  \n",
    "rare_cuisine = set(rare_cuisine_dict.keys()) \n",
    "rare_cuisine"
   ]
  },
  {
   "cell_type": "code",
   "execution_count": null,
   "metadata": {
    "execution": {
     "iopub.execute_input": "2021-08-28T15:54:37.655921Z",
     "iopub.status.busy": "2021-08-28T15:54:37.655441Z",
     "iopub.status.idle": "2021-08-28T15:54:38.223151Z",
     "shell.execute_reply": "2021-08-28T15:54:38.222473Z",
     "shell.execute_reply.started": "2021-08-28T15:54:37.655876Z"
    }
   },
   "outputs": [],
   "source": [
    "# множество с остальными кухнями\n",
    "data_common=data.copy()\n",
    "data_common=data_common.explode('cuisine_style')\n",
    "common_cuisine_dict = (data_common['cuisine_style'].value_counts(\n",
    ")[data_common['cuisine_style'].value_counts(normalize=True) > 0.0001]).to_dict()\n",
    "common_cuisine = set(common_cuisine_dict.keys()) \n",
    "common_cuisine"
   ]
  },
  {
   "cell_type": "code",
   "execution_count": null,
   "metadata": {
    "execution": {
     "iopub.execute_input": "2021-08-28T15:54:38.224983Z",
     "iopub.status.busy": "2021-08-28T15:54:38.224511Z",
     "iopub.status.idle": "2021-08-28T15:54:38.302434Z",
     "shell.execute_reply": "2021-08-28T15:54:38.301709Z",
     "shell.execute_reply.started": "2021-08-28T15:54:38.224937Z"
    }
   },
   "outputs": [],
   "source": [
    "cuisine_styles = []  # создаём пустой список для хранения уникальных значений кухонь\n",
    "for cuisine in data['cuisine_style']: \n",
    "    for ing in cuisine:\n",
    "        if not ing in cuisine_styles:\n",
    "            cuisine_styles.append(ing)\n",
    "cuisine_styles # список со всеми кухнями"
   ]
  },
  {
   "cell_type": "code",
   "execution_count": null,
   "metadata": {
    "execution": {
     "iopub.execute_input": "2021-08-28T15:54:38.304222Z",
     "iopub.status.busy": "2021-08-28T15:54:38.303907Z",
     "iopub.status.idle": "2021-08-28T15:54:42.174818Z",
     "shell.execute_reply": "2021-08-28T15:54:42.173834Z",
     "shell.execute_reply.started": "2021-08-28T15:54:38.304162Z"
    }
   },
   "outputs": [],
   "source": [
    "# создадим столбцы с названиями кухонь\n",
    "def find_item(cell):\n",
    "    if item in cell:\n",
    "        return 1\n",
    "    return 0\n",
    "\n",
    "for item in common_cuisine:\n",
    "    data[item] = data['cuisine_style'].apply(find_item)\n",
    "\n",
    "data"
   ]
  },
  {
   "cell_type": "code",
   "execution_count": null,
   "metadata": {
    "execution": {
     "iopub.execute_input": "2021-08-28T15:54:42.177011Z",
     "iopub.status.busy": "2021-08-28T15:54:42.176673Z",
     "iopub.status.idle": "2021-08-28T15:54:43.969095Z",
     "shell.execute_reply": "2021-08-28T15:54:43.967742Z",
     "shell.execute_reply.started": "2021-08-28T15:54:42.176952Z"
    }
   },
   "outputs": [],
   "source": [
    "# редко стречающиеся кухни выделим в отдельную колонку\n",
    "other_cuisine=[] \n",
    "for i in range(50000):\n",
    "    if len(rare_cuisine.intersection(data.cuisine_style[i])) != 0:\n",
    "        other_cuisine.append(1)\n",
    "    else:\n",
    "        other_cuisine.append(0)\n",
    "\n",
    "len(other_cuisine) # сначала создадим список, в котором если кухня редкая - 1, если нет - 0"
   ]
  },
  {
   "cell_type": "code",
   "execution_count": null,
   "metadata": {
    "execution": {
     "iopub.execute_input": "2021-08-28T15:54:43.971319Z",
     "iopub.status.busy": "2021-08-28T15:54:43.970920Z",
     "iopub.status.idle": "2021-08-28T15:54:44.008872Z",
     "shell.execute_reply": "2021-08-28T15:54:44.007121Z",
     "shell.execute_reply.started": "2021-08-28T15:54:43.971242Z"
    }
   },
   "outputs": [],
   "source": [
    "data['other_cuisine']=other_cuisine # и добавим его колонкой в данные\n",
    "data['other_cuisine'].value_counts()"
   ]
  },
  {
   "cell_type": "code",
   "execution_count": null,
   "metadata": {
    "execution": {
     "iopub.execute_input": "2021-08-28T15:54:44.011120Z",
     "iopub.status.busy": "2021-08-28T15:54:44.010814Z",
     "iopub.status.idle": "2021-08-28T15:54:44.057067Z",
     "shell.execute_reply": "2021-08-28T15:54:44.055855Z",
     "shell.execute_reply.started": "2021-08-28T15:54:44.011066Z"
    }
   },
   "outputs": [],
   "source": [
    "data['cuisine_count'] = data['cuisine_style'].apply(\n",
    "    lambda x: 1 if len(x) == 0 else len(x))"
   ]
  },
  {
   "cell_type": "markdown",
   "metadata": {},
   "source": [
    "## Работа с отзывами и датами в отзывах"
   ]
  },
  {
   "cell_type": "code",
   "execution_count": null,
   "metadata": {
    "execution": {
     "iopub.execute_input": "2021-08-28T15:54:44.059105Z",
     "iopub.status.busy": "2021-08-28T15:54:44.058802Z",
     "iopub.status.idle": "2021-08-28T15:54:44.409185Z",
     "shell.execute_reply": "2021-08-28T15:54:44.407859Z",
     "shell.execute_reply.started": "2021-08-28T15:54:44.059056Z"
    }
   },
   "outputs": [],
   "source": [
    "# вытащим даты в новый столбец\n",
    "import re\n",
    "pattern = re.compile('\\d+/\\d+/\\d+')\n",
    "data['reviews_date']=data['reviews'].apply(lambda x:pattern.findall(str(x)))"
   ]
  },
  {
   "cell_type": "code",
   "execution_count": null,
   "metadata": {
    "execution": {
     "iopub.execute_input": "2021-08-28T15:54:44.411088Z",
     "iopub.status.busy": "2021-08-28T15:54:44.410762Z",
     "iopub.status.idle": "2021-08-28T15:54:44.418520Z",
     "shell.execute_reply": "2021-08-28T15:54:44.417033Z",
     "shell.execute_reply.started": "2021-08-28T15:54:44.411035Z"
    }
   },
   "outputs": [],
   "source": [
    "# функции для отделения первой и второй даты в разные столбцы\n",
    "def last_date(df):\n",
    "    if len(df) > 0:\n",
    "        return df[0]\n",
    "    else:\n",
    "        return 0\n",
    "\n",
    "\n",
    "def another_date(df):\n",
    "    if len(df) > 0:\n",
    "        return df[-1]\n",
    "    else:\n",
    "        return 0"
   ]
  },
  {
   "cell_type": "code",
   "execution_count": null,
   "metadata": {
    "execution": {
     "iopub.execute_input": "2021-08-28T15:54:44.420212Z",
     "iopub.status.busy": "2021-08-28T15:54:44.419941Z",
     "iopub.status.idle": "2021-08-28T15:54:44.639066Z",
     "shell.execute_reply": "2021-08-28T15:54:44.637851Z",
     "shell.execute_reply.started": "2021-08-28T15:54:44.420165Z"
    }
   },
   "outputs": [],
   "source": [
    "#обработка дат в отзывах, пустые даты заполнены '1970-01-01'\n",
    "data['last_reviews_date'] = data.reviews_date.apply(last_date)\n",
    "data['first_reviews_date'] = data.reviews_date.apply(another_date)\n",
    "data.last_reviews_date=pd.to_datetime(data['last_reviews_date'])\n",
    "data.first_reviews_date=pd.to_datetime(data['first_reviews_date'])\n",
    "data.sample(10)"
   ]
  },
  {
   "cell_type": "code",
   "execution_count": null,
   "metadata": {
    "execution": {
     "iopub.execute_input": "2021-08-28T15:54:44.641216Z",
     "iopub.status.busy": "2021-08-28T15:54:44.640926Z",
     "iopub.status.idle": "2021-08-28T15:54:44.660367Z",
     "shell.execute_reply": "2021-08-28T15:54:44.658920Z",
     "shell.execute_reply.started": "2021-08-28T15:54:44.641167Z"
    }
   },
   "outputs": [],
   "source": [
    "data['timedelta']=(data.last_reviews_date-data.first_reviews_date)\n",
    "data['timedelta']=pd.to_numeric(data['timedelta'].dt.days, downcast ='integer') # добавим столбец с количеством дней между отзывами"
   ]
  },
  {
   "cell_type": "code",
   "execution_count": null,
   "metadata": {
    "execution": {
     "iopub.execute_input": "2021-08-28T15:54:44.663587Z",
     "iopub.status.busy": "2021-08-28T15:54:44.663103Z",
     "iopub.status.idle": "2021-08-28T15:54:44.672618Z",
     "shell.execute_reply": "2021-08-28T15:54:44.671221Z",
     "shell.execute_reply.started": "2021-08-28T15:54:44.663505Z"
    }
   },
   "outputs": [],
   "source": [
    "# Создадим множества со словами, которые встречаются в плохих или хороших отзывах\n",
    "good_words = {'good', 'fine', 'delicious', 'best', 'wonderful', 'nice', 'better', 'top notch', 'great', 'cozy',\n",
    "              'yummy', 'amazing', 'fantastic', 'wonderful', 'perfect', 'tasty', 'fab', 'worth', 'excellent', 'ace',\n",
    "              'beautiful', 'lovely', 'quick', 'top', 'enjoyable', 'fabulous'}\n",
    "bad_words = {'bad', 'worst', 'poor', 'awful', 'rude', 'noisy', 'horrible', 'wrong', 'blaah', 'slow', 'poor', 'rough',\n",
    "             'dirty', 'overpriced', 'nothing'}"
   ]
  },
  {
   "cell_type": "code",
   "execution_count": null,
   "metadata": {
    "execution": {
     "iopub.execute_input": "2021-08-28T15:54:44.675415Z",
     "iopub.status.busy": "2021-08-28T15:54:44.674943Z",
     "iopub.status.idle": "2021-08-28T15:54:45.243545Z",
     "shell.execute_reply": "2021-08-28T15:54:45.242758Z",
     "shell.execute_reply.started": "2021-08-28T15:54:44.675321Z"
    }
   },
   "outputs": [],
   "source": [
    "data['reviews']=data['reviews'].str.lower() # приведем отзывы к нижнему регистру\n",
    "data['reviews_new']=data['reviews'].apply(lambda x:re.split(r'\\W+', str(x), maxsplit=0)) # и сделаем из отзывов списки слов"
   ]
  },
  {
   "cell_type": "code",
   "execution_count": null,
   "metadata": {
    "execution": {
     "iopub.execute_input": "2021-08-28T15:54:45.246023Z",
     "iopub.status.busy": "2021-08-28T15:54:45.245491Z",
     "iopub.status.idle": "2021-08-28T15:54:47.048628Z",
     "shell.execute_reply": "2021-08-28T15:54:47.047413Z",
     "shell.execute_reply.started": "2021-08-28T15:54:45.245959Z"
    }
   },
   "outputs": [],
   "source": [
    "good=[] \n",
    "for i in range(50000):\n",
    "    if len(good_words.intersection(data.reviews_new[i])) != 0:\n",
    "        good.append(1)\n",
    "    else:\n",
    "        good.append(0)\n",
    "len(good) # список с 0 и 1 (если в отзыве слова из \"хорошего\" списка)"
   ]
  },
  {
   "cell_type": "code",
   "execution_count": null,
   "metadata": {
    "execution": {
     "iopub.execute_input": "2021-08-28T15:54:47.050854Z",
     "iopub.status.busy": "2021-08-28T15:54:47.050480Z",
     "iopub.status.idle": "2021-08-28T15:54:48.788813Z",
     "shell.execute_reply": "2021-08-28T15:54:48.787531Z",
     "shell.execute_reply.started": "2021-08-28T15:54:47.050793Z"
    }
   },
   "outputs": [],
   "source": [
    "bad=[] \n",
    "for i in range(50000):\n",
    "    if len(bad_words.intersection(data.reviews_new[i])) != 0:\n",
    "        bad.append(1)\n",
    "    else:\n",
    "        bad.append(0)\n",
    "len(bad) # список с 0 и 1 (если в отзыве слова из \"плохого\" списка)"
   ]
  },
  {
   "cell_type": "code",
   "execution_count": null,
   "metadata": {
    "execution": {
     "iopub.execute_input": "2021-08-28T15:54:48.791180Z",
     "iopub.status.busy": "2021-08-28T15:54:48.790753Z",
     "iopub.status.idle": "2021-08-28T15:54:48.827433Z",
     "shell.execute_reply": "2021-08-28T15:54:48.826083Z",
     "shell.execute_reply.started": "2021-08-28T15:54:48.791097Z"
    }
   },
   "outputs": [],
   "source": [
    "data['good_reviews']=good # и добавим его колонкой в данные\n",
    "data['good_reviews'].value_counts()"
   ]
  },
  {
   "cell_type": "code",
   "execution_count": null,
   "metadata": {
    "execution": {
     "iopub.execute_input": "2021-08-28T15:54:48.836801Z",
     "iopub.status.busy": "2021-08-28T15:54:48.836435Z",
     "iopub.status.idle": "2021-08-28T15:54:48.872758Z",
     "shell.execute_reply": "2021-08-28T15:54:48.871193Z",
     "shell.execute_reply.started": "2021-08-28T15:54:48.836740Z"
    }
   },
   "outputs": [],
   "source": [
    "data['bad_reviews']=bad # и добавим его колонкой в данные\n",
    "data['bad_reviews'].value_counts()"
   ]
  },
  {
   "cell_type": "markdown",
   "metadata": {},
   "source": [
    "### Добавим данные"
   ]
  },
  {
   "cell_type": "code",
   "execution_count": null,
   "metadata": {
    "execution": {
     "iopub.execute_input": "2021-08-28T15:54:48.874318Z",
     "iopub.status.busy": "2021-08-28T15:54:48.874069Z",
     "iopub.status.idle": "2021-08-28T15:54:48.885948Z",
     "shell.execute_reply": "2021-08-28T15:54:48.884409Z",
     "shell.execute_reply.started": "2021-08-28T15:54:48.874281Z"
    }
   },
   "outputs": [],
   "source": [
    "# словарь с плотностью населения\n",
    "density_of_city = {'London': 5137, 'Paris': 20781, 'Madrid': 5390, 'Barcelona': 15779, 'Berlin': 4463, 'Milan': 7385,\n",
    "                    'Rome': 2229, 'Prague': 2473, 'Lisbon': 5066, 'Vienna': 4438, 'Amsterdam': 4457, 'Brussels': 4439,\n",
    "                    'Hamburg': 2388, 'Munich': 4686, 'Lyon': 10023, 'Stockholm': 5114, 'Budapest': 3306, 'Warsaw': 3461,\n",
    "                    'Dublin': 4588, 'Copenhagen': 4514, 'Athens': 17026, 'Edinburgh': 4136, 'Zurich': 4574, 'Oporto': 6946,\n",
    "                    'Geneva': 6816, 'Krakow': 2325, 'Oslo': 1527, 'Helsinki': 2739, 'Bratislava': 1140, 'Luxembourg': 245,\n",
    "                    'Ljubljana': 1759}"
   ]
  },
  {
   "cell_type": "code",
   "execution_count": null,
   "metadata": {
    "execution": {
     "iopub.execute_input": "2021-08-28T15:54:48.887713Z",
     "iopub.status.busy": "2021-08-28T15:54:48.887315Z",
     "iopub.status.idle": "2021-08-28T15:54:49.028803Z",
     "shell.execute_reply": "2021-08-28T15:54:49.027927Z",
     "shell.execute_reply.started": "2021-08-28T15:54:48.887625Z"
    }
   },
   "outputs": [],
   "source": [
    "# сначала делаем DF из словаря, и добавляем плотность городов\n",
    "density_of_city_df=pd.DataFrame(list(density_of_city.items()),\n",
    "                           columns=['city','density_of_city'])\n",
    "data=data.merge(density_of_city_df, how='left',left_on='city', right_on='city')"
   ]
  },
  {
   "cell_type": "code",
   "execution_count": null,
   "metadata": {
    "execution": {
     "iopub.execute_input": "2021-08-28T15:54:49.030732Z",
     "iopub.status.busy": "2021-08-28T15:54:49.030403Z",
     "iopub.status.idle": "2021-08-28T15:54:49.087155Z",
     "shell.execute_reply": "2021-08-28T15:54:49.086285Z",
     "shell.execute_reply.started": "2021-08-28T15:54:49.030677Z"
    }
   },
   "outputs": [],
   "source": [
    "# добавим колонку с количеством ресторанов (по id) возожно, как-то влияет большая это сеть один ресторан\n",
    "count_rests_dict = data.restaurant_id.value_counts().to_dict()\n",
    "count_rests = pd.DataFrame(list(count_rests_dict.items()),\n",
    "                           columns=['restaurant_id','count_rests'])\n",
    "count_rests"
   ]
  },
  {
   "cell_type": "code",
   "execution_count": null,
   "metadata": {
    "execution": {
     "iopub.execute_input": "2021-08-28T15:54:49.090197Z",
     "iopub.status.busy": "2021-08-28T15:54:49.089835Z",
     "iopub.status.idle": "2021-08-28T15:54:49.121257Z",
     "shell.execute_reply": "2021-08-28T15:54:49.120151Z",
     "shell.execute_reply.started": "2021-08-28T15:54:49.090138Z"
    }
   },
   "outputs": [],
   "source": [
    "# добавим колонку с общим количеством ресторанов в городе\n",
    "count_in_city_dict = data.city.value_counts().to_dict()\n",
    "count_in_city = pd.DataFrame(list(count_in_city_dict.items()),\n",
    "                           columns=['city','count_in_city'])\n",
    "count_in_city"
   ]
  },
  {
   "cell_type": "code",
   "execution_count": null,
   "metadata": {
    "execution": {
     "iopub.execute_input": "2021-08-28T15:54:49.123008Z",
     "iopub.status.busy": "2021-08-28T15:54:49.122631Z",
     "iopub.status.idle": "2021-08-28T15:54:49.390428Z",
     "shell.execute_reply": "2021-08-28T15:54:49.389322Z",
     "shell.execute_reply.started": "2021-08-28T15:54:49.122950Z"
    }
   },
   "outputs": [],
   "source": [
    "data=data.merge(count_rests, how='left',left_on='restaurant_id', right_on='restaurant_id')\n",
    "data=data.merge(count_in_city, how='left',left_on='city', right_on='city')\n",
    "data"
   ]
  },
  {
   "cell_type": "code",
   "execution_count": null,
   "metadata": {
    "execution": {
     "iopub.execute_input": "2021-08-28T15:54:49.392678Z",
     "iopub.status.busy": "2021-08-28T15:54:49.392276Z",
     "iopub.status.idle": "2021-08-28T15:54:49.405209Z",
     "shell.execute_reply": "2021-08-28T15:54:49.403895Z",
     "shell.execute_reply.started": "2021-08-28T15:54:49.392583Z"
    }
   },
   "outputs": [],
   "source": [
    "# нормируем признак  ranking\n",
    "a=np.array(data.ranking)\n",
    "a=np.reshape(a,(50000,1)) # матрица из значений для нормировки\n",
    "\n",
    "scaler = StandardScaler()\n",
    "ranking_norm=scaler.fit_transform(a) # нормированные значения\n",
    "\n",
    "ranking_norm"
   ]
  },
  {
   "cell_type": "code",
   "execution_count": null,
   "metadata": {
    "execution": {
     "iopub.execute_input": "2021-08-28T15:54:49.407478Z",
     "iopub.status.busy": "2021-08-28T15:54:49.407087Z",
     "iopub.status.idle": "2021-08-28T15:54:49.613123Z",
     "shell.execute_reply": "2021-08-28T15:54:49.611766Z",
     "shell.execute_reply.started": "2021-08-28T15:54:49.407417Z"
    }
   },
   "outputs": [],
   "source": [
    "data=data.join(pd.DataFrame(ranking_norm), rsuffix='_') # добавляем в наши данные\n",
    "data"
   ]
  },
  {
   "cell_type": "code",
   "execution_count": null,
   "metadata": {
    "execution": {
     "iopub.execute_input": "2021-08-28T15:54:49.615114Z",
     "iopub.status.busy": "2021-08-28T15:54:49.614830Z",
     "iopub.status.idle": "2021-08-28T15:54:49.860454Z",
     "shell.execute_reply": "2021-08-28T15:54:49.859175Z",
     "shell.execute_reply.started": "2021-08-28T15:54:49.615065Z"
    }
   },
   "outputs": [],
   "source": [
    "data = data.rename(\n",
    "    columns={0: 'ranking_norm'}) #  переименуем корректно столбец\n",
    "data"
   ]
  },
  {
   "cell_type": "code",
   "execution_count": null,
   "metadata": {
    "execution": {
     "iopub.execute_input": "2021-08-28T15:54:49.862269Z",
     "iopub.status.busy": "2021-08-28T15:54:49.861987Z",
     "iopub.status.idle": "2021-08-28T15:54:49.891748Z",
     "shell.execute_reply": "2021-08-28T15:54:49.890680Z",
     "shell.execute_reply.started": "2021-08-28T15:54:49.862221Z"
    }
   },
   "outputs": [],
   "source": [
    "# добавим колонку с средним значением ranking_norm в городе\n",
    "ranking_city=data.pivot_table(values=['ranking_norm'],index=['city'],aggfunc='mean',fill_value = 0)\n",
    "ranking_city"
   ]
  },
  {
   "cell_type": "code",
   "execution_count": null,
   "metadata": {
    "execution": {
     "iopub.execute_input": "2021-08-28T15:54:49.893910Z",
     "iopub.status.busy": "2021-08-28T15:54:49.893522Z",
     "iopub.status.idle": "2021-08-28T15:54:49.925309Z",
     "shell.execute_reply": "2021-08-28T15:54:49.924184Z",
     "shell.execute_reply.started": "2021-08-28T15:54:49.893850Z"
    }
   },
   "outputs": [],
   "source": [
    "# добавим колонку с максимальным значением ranking_norm в городе\n",
    "ranking_city_max=data.pivot_table(values=['ranking_norm'],index=['city'],aggfunc='max',fill_value = 0)\n",
    "ranking_city_max"
   ]
  },
  {
   "cell_type": "code",
   "execution_count": null,
   "metadata": {
    "execution": {
     "iopub.execute_input": "2021-08-28T15:54:49.927272Z",
     "iopub.status.busy": "2021-08-28T15:54:49.927004Z",
     "iopub.status.idle": "2021-08-28T15:54:49.958089Z",
     "shell.execute_reply": "2021-08-28T15:54:49.956616Z",
     "shell.execute_reply.started": "2021-08-28T15:54:49.927225Z"
    }
   },
   "outputs": [],
   "source": [
    "# добавим колонку с минимальным значением ranking_norm в городе\n",
    "ranking_city_min=data.pivot_table(values=['ranking_norm'],index=['city'],aggfunc='min',fill_value = 0)\n",
    "ranking_city_min"
   ]
  },
  {
   "cell_type": "code",
   "execution_count": null,
   "metadata": {
    "execution": {
     "iopub.execute_input": "2021-08-28T15:54:49.962282Z",
     "iopub.status.busy": "2021-08-28T15:54:49.961959Z",
     "iopub.status.idle": "2021-08-28T15:54:50.343418Z",
     "shell.execute_reply": "2021-08-28T15:54:50.342151Z",
     "shell.execute_reply.started": "2021-08-28T15:54:49.962232Z"
    }
   },
   "outputs": [],
   "source": [
    "data=data.merge(ranking_city, how='left',left_on='city', right_on='city')\n",
    "\n",
    "data = data.rename(\n",
    "    columns={'ranking_norm_y': 'ranking_mean', 'ranking_norm_x': 'ranking_norm'})\n",
    "data"
   ]
  },
  {
   "cell_type": "code",
   "execution_count": null,
   "metadata": {
    "execution": {
     "iopub.execute_input": "2021-08-28T15:54:50.345593Z",
     "iopub.status.busy": "2021-08-28T15:54:50.345309Z",
     "iopub.status.idle": "2021-08-28T15:54:50.831023Z",
     "shell.execute_reply": "2021-08-28T15:54:50.830017Z",
     "shell.execute_reply.started": "2021-08-28T15:54:50.345543Z"
    }
   },
   "outputs": [],
   "source": [
    "data=data.merge(ranking_city_max, how='left',left_on='city', right_on='city')\n",
    "\n",
    "data = data.rename(\n",
    "    columns={'ranking_norm_y': 'ranking_city_max', 'ranking_norm_x': 'ranking_norm'})\n",
    "data"
   ]
  },
  {
   "cell_type": "code",
   "execution_count": null,
   "metadata": {
    "execution": {
     "iopub.execute_input": "2021-08-28T15:54:50.832850Z",
     "iopub.status.busy": "2021-08-28T15:54:50.832576Z",
     "iopub.status.idle": "2021-08-28T15:54:50.940966Z",
     "shell.execute_reply": "2021-08-28T15:54:50.939827Z",
     "shell.execute_reply.started": "2021-08-28T15:54:50.832812Z"
    }
   },
   "outputs": [],
   "source": [
    "data"
   ]
  },
  {
   "cell_type": "markdown",
   "metadata": {},
   "source": [
    "![](https://cs10.pikabu.ru/post_img/2018/09/06/11/1536261023140110012.jpg)"
   ]
  },
  {
   "cell_type": "markdown",
   "metadata": {},
   "source": [
    "# EDA \n",
    "[Exploratory Data Analysis](https://ru.wikipedia.org/wiki/Разведочный_анализ_данных) - Анализ данных\n",
    "На этом этапе мы строим графики, ищем закономерности, аномалии, выбросы или связи между признаками.\n",
    "В общем цель этого этапа понять, что эти данные могут нам дать и как признаки могут быть взаимосвязаны между собой.\n",
    "Понимание изначальных признаков позволит сгенерировать новые, более сильные и, тем самым, сделать нашу модель лучше.\n",
    "![](https://miro.medium.com/max/2598/1*RXdMb7Uk6mGqWqPguHULaQ.png)"
   ]
  },
  {
   "cell_type": "markdown",
   "metadata": {},
   "source": [
    "### Посмотрим распределение признака"
   ]
  },
  {
   "cell_type": "code",
   "execution_count": null,
   "metadata": {
    "execution": {
     "iopub.execute_input": "2021-08-28T15:54:50.943002Z",
     "iopub.status.busy": "2021-08-28T15:54:50.942710Z",
     "iopub.status.idle": "2021-08-28T15:54:51.582600Z",
     "shell.execute_reply": "2021-08-28T15:54:51.580776Z",
     "shell.execute_reply.started": "2021-08-28T15:54:50.942947Z"
    }
   },
   "outputs": [],
   "source": [
    "plt.rcParams['figure.figsize'] = (10,7)\n",
    "df_train['Ranking'].hist(bins=100)"
   ]
  },
  {
   "cell_type": "markdown",
   "metadata": {},
   "source": [
    "У нас много ресторанов, которые не дотягивают и до 2500 места в своем городе, а что там по городам?"
   ]
  },
  {
   "cell_type": "code",
   "execution_count": null,
   "metadata": {
    "execution": {
     "iopub.execute_input": "2021-08-28T15:54:51.585166Z",
     "iopub.status.busy": "2021-08-28T15:54:51.584777Z",
     "iopub.status.idle": "2021-08-28T15:54:52.080597Z",
     "shell.execute_reply": "2021-08-28T15:54:52.079349Z",
     "shell.execute_reply.started": "2021-08-28T15:54:51.585106Z"
    }
   },
   "outputs": [],
   "source": [
    "df_train['City'].value_counts(ascending=True).plot(kind='barh')"
   ]
  },
  {
   "cell_type": "markdown",
   "metadata": {},
   "source": [
    "А кто-то говорил, что французы любят поесть=) Посмотрим, как изменится распределение в большом городе:"
   ]
  },
  {
   "cell_type": "code",
   "execution_count": null,
   "metadata": {
    "execution": {
     "iopub.execute_input": "2021-08-28T15:54:52.083779Z",
     "iopub.status.busy": "2021-08-28T15:54:52.083024Z",
     "iopub.status.idle": "2021-08-28T15:54:52.612396Z",
     "shell.execute_reply": "2021-08-28T15:54:52.611288Z",
     "shell.execute_reply.started": "2021-08-28T15:54:52.083706Z"
    }
   },
   "outputs": [],
   "source": [
    "df_train['Ranking'][df_train['City'] =='London'].hist(bins=100)"
   ]
  },
  {
   "cell_type": "code",
   "execution_count": null,
   "metadata": {
    "execution": {
     "iopub.execute_input": "2021-08-28T15:54:52.615204Z",
     "iopub.status.busy": "2021-08-28T15:54:52.614500Z",
     "iopub.status.idle": "2021-08-28T15:54:55.543324Z",
     "shell.execute_reply": "2021-08-28T15:54:55.541942Z",
     "shell.execute_reply.started": "2021-08-28T15:54:52.615133Z"
    }
   },
   "outputs": [],
   "source": [
    "# посмотрим на топ 10 городов\n",
    "for x in (df_train['City'].value_counts())[0:10].index:\n",
    "    df_train['Ranking'][df_train['City'] == x].hist(bins=100)\n",
    "plt.show()"
   ]
  },
  {
   "cell_type": "markdown",
   "metadata": {},
   "source": [
    "Получается, что Ranking имеет нормальное распределение, просто в больших городах больше ресторанов, из-за мы этого имеем смещение.\n",
    "\n",
    ">Подумайте как из этого можно сделать признак для вашей модели. Я покажу вам пример, как визуализация помогает находить взаимосвязи. А далее действуйте без подсказок =) \n"
   ]
  },
  {
   "cell_type": "markdown",
   "metadata": {},
   "source": [
    "### Посмотрим распределение целевой переменной"
   ]
  },
  {
   "cell_type": "code",
   "execution_count": null,
   "metadata": {
    "execution": {
     "iopub.execute_input": "2021-08-28T15:54:55.546571Z",
     "iopub.status.busy": "2021-08-28T15:54:55.545756Z",
     "iopub.status.idle": "2021-08-28T15:54:55.856390Z",
     "shell.execute_reply": "2021-08-28T15:54:55.854473Z",
     "shell.execute_reply.started": "2021-08-28T15:54:55.546121Z"
    }
   },
   "outputs": [],
   "source": [
    "df_train['Rating'].value_counts(ascending=True).plot(kind='barh')"
   ]
  },
  {
   "cell_type": "markdown",
   "metadata": {},
   "source": [
    "### Посмотрим распределение целевой переменной относительно признака"
   ]
  },
  {
   "cell_type": "code",
   "execution_count": null,
   "metadata": {
    "execution": {
     "iopub.execute_input": "2021-08-28T15:54:55.859679Z",
     "iopub.status.busy": "2021-08-28T15:54:55.859149Z",
     "iopub.status.idle": "2021-08-28T15:54:56.432127Z",
     "shell.execute_reply": "2021-08-28T15:54:56.430921Z",
     "shell.execute_reply.started": "2021-08-28T15:54:55.859581Z"
    }
   },
   "outputs": [],
   "source": [
    "df_train['Ranking'][df_train['Rating'] == 5].hist(bins=100)"
   ]
  },
  {
   "cell_type": "code",
   "execution_count": null,
   "metadata": {
    "execution": {
     "iopub.execute_input": "2021-08-28T15:54:56.436592Z",
     "iopub.status.busy": "2021-08-28T15:54:56.434265Z",
     "iopub.status.idle": "2021-08-28T15:54:56.989653Z",
     "shell.execute_reply": "2021-08-28T15:54:56.988023Z",
     "shell.execute_reply.started": "2021-08-28T15:54:56.436446Z"
    }
   },
   "outputs": [],
   "source": [
    "df_train['Ranking'][df_train['Rating'] < 4].hist(bins=100)"
   ]
  },
  {
   "cell_type": "markdown",
   "metadata": {},
   "source": [
    "### И один из моих любимых - [корреляция признаков](https://ru.wikipedia.org/wiki/Корреляция)\n",
    "На этом графике уже сейчас вы сможете заметить, как признаки связаны между собой и с целевой переменной."
   ]
  },
  {
   "cell_type": "code",
   "execution_count": null,
   "metadata": {
    "execution": {
     "iopub.execute_input": "2021-08-28T15:54:56.992584Z",
     "iopub.status.busy": "2021-08-28T15:54:56.991917Z",
     "iopub.status.idle": "2021-08-28T15:55:01.935891Z",
     "shell.execute_reply": "2021-08-28T15:55:01.934064Z",
     "shell.execute_reply.started": "2021-08-28T15:54:56.992279Z"
    }
   },
   "outputs": [],
   "source": [
    "plt.rcParams['figure.figsize'] = (15,10)\n",
    "sns.heatmap(data.drop(['sample'], axis=1).corr(),)"
   ]
  },
  {
   "cell_type": "markdown",
   "metadata": {},
   "source": [
    "Вообще благодаря визуализации в этом датасете можно узнать много интересных фактов, например:\n",
    "* где больше Пицерий в Мадриде или Лондоне?\n",
    "* в каком городе кухня ресторанов более разнообразна?\n",
    "\n",
    "придумайте свои вопрос и найдите на него ответ в данных)"
   ]
  },
  {
   "cell_type": "code",
   "execution_count": null,
   "metadata": {
    "execution": {
     "iopub.execute_input": "2021-08-28T15:55:01.938406Z",
     "iopub.status.busy": "2021-08-28T15:55:01.938062Z",
     "iopub.status.idle": "2021-08-28T15:55:04.755224Z",
     "shell.execute_reply": "2021-08-28T15:55:04.753851Z",
     "shell.execute_reply.started": "2021-08-28T15:55:01.938361Z"
    }
   },
   "outputs": [],
   "source": [
    "data.corr().Rating.sort_values(ascending=False).to_frame()"
   ]
  },
  {
   "cell_type": "markdown",
   "metadata": {},
   "source": [
    "# Data Preprocessing\n"
   ]
  },
  {
   "cell_type": "code",
   "execution_count": null,
   "metadata": {
    "execution": {
     "iopub.execute_input": "2021-08-28T15:55:04.757830Z",
     "iopub.status.busy": "2021-08-28T15:55:04.757446Z",
     "iopub.status.idle": "2021-08-28T15:55:04.812588Z",
     "shell.execute_reply": "2021-08-28T15:55:04.810868Z",
     "shell.execute_reply.started": "2021-08-28T15:55:04.757771Z"
    }
   },
   "outputs": [],
   "source": [
    "data.drop(['restaurant_id','city','cuisine_style','reviews','url_ta','id_ta','price_range','reviews_date','last_reviews_date',\n",
    "           'first_reviews_date', 'reviews_new'], axis = 1, inplace=True)"
   ]
  },
  {
   "cell_type": "code",
   "execution_count": null,
   "metadata": {
    "execution": {
     "iopub.execute_input": "2021-08-28T15:55:04.814636Z",
     "iopub.status.busy": "2021-08-28T15:55:04.814299Z",
     "iopub.status.idle": "2021-08-28T15:55:04.842275Z",
     "shell.execute_reply": "2021-08-28T15:55:04.840862Z",
     "shell.execute_reply.started": "2021-08-28T15:55:04.814591Z"
    }
   },
   "outputs": [],
   "source": [
    "def preproc_data(df_input):\n",
    "    '''includes several functions to pre-process the predictor data.'''\n",
    "    \n",
    "    df_output = df_input.copy()\n",
    "    df_output.columns=['restaurant_id','city','cuisine_style','ranking',\n",
    "                       'price_range','number_of_reviews','reviews','url_ta','id_ta','sample','Rating']\n",
    "    # ################### 1. Предобработка ############################################################## \n",
    " \n",
    "    \n",
    "    # ################### 2. NAN ############################################################## \n",
    "    # Далее заполняем пропуски, вы можете попробовать заполнением средним или средним по городу и тд...\n",
    "    df_output['number_of_reviews'].fillna(0, inplace=True)\n",
    "    # тут ваш код по обработке NAN\n",
    "    # ....\n",
    "    \n",
    "    \n",
    "    # ################### 3. Encoding ############################################################## \n",
    "    # для One-Hot Encoding в pandas есть готовая функция - get_dummies. Особенно радует параметр dummy_na\n",
    "    df_output = pd.get_dummies(df_output, columns=[ 'city',], dummy_na=True)\n",
    "    df_output['city']=data1['city']\n",
    "    \n",
    "    df_output['price_range_num']=df_output['price_range'].apply(price_ranges)\n",
    "    df_output['price_range_num']=df_output['price_range_num'].fillna(2.0)\n",
    "    \n",
    "    df_output['cuisine_style']=df_output['cuisine_style'].fillna(\"['secret']\")\n",
    "    df_output['cuisine_style']=df_output['cuisine_style'].apply(lambda x: eval(x))\n",
    "    \n",
    "    df_output['other_cuisine']=other_cuisine\n",
    "    \n",
    "    df_output['cuisine_count'] = df_output['cuisine_style'].apply(lambda x: 1 if len(x) == 0 else len(x))\n",
    "    \n",
    "    df_output['reviews_date']=df_output['reviews'].apply(lambda x:pattern.findall(str(x)))\n",
    "    df_output['last_reviews_date'] = df_output.reviews_date.apply(last_date)\n",
    "    df_output['first_reviews_date'] = df_output.reviews_date.apply(another_date)\n",
    "    df_output.last_reviews_date=pd.to_datetime(df_output['last_reviews_date'])\n",
    "    df_output.first_reviews_date=pd.to_datetime(df_output['first_reviews_date'])\n",
    "    df_output['timedelta']=(df_output.last_reviews_date-df_output.first_reviews_date)\n",
    "    df_output['timedelta']=pd.to_numeric(df_output['timedelta'].dt.days, downcast ='integer')\n",
    "    \n",
    "    df_output['good_reviews']=good \n",
    "    df_output['bad_reviews']=bad \n",
    "    \n",
    "    df_output=df_output.merge(density_of_city_df, how='left',left_on='city', right_on='city')\n",
    "    \n",
    "    df_output=df_output.merge(count_rests, how='left',left_on='restaurant_id', right_on='restaurant_id')\n",
    "    df_output=df_output.merge(count_in_city, how='left',left_on='city', right_on='city')\n",
    "    \n",
    "    df_output=df_output.join(pd.DataFrame(ranking_norm), rsuffix='_')\n",
    "    df_output = df_output.rename(columns={0: 'ranking_norm'}) #  переименуем корректно столбец\n",
    "    \n",
    "    df_output=df_output.merge(ranking_city, how='left',left_on='city', right_on='city')\n",
    "    df_output = df_output.rename(columns={'ranking_norm_y': 'ranking_mean', 'ranking_norm_x': 'ranking_norm'})\n",
    "    \n",
    "    df_output=df_output.merge(ranking_city_max, how='left',left_on='city', right_on='city')\n",
    "    df_output = df_output.rename(columns={'ranking_norm_y': 'ranking_city_max', 'ranking_norm_x': 'ranking_norm'})\n",
    "    \n",
    "    \n",
    "    # ################### 4. Feature Engineering ####################################################\n",
    "    # тут ваш код не генерацию новых фитчей\n",
    "    # ....\n",
    "    \n",
    "    \n",
    "    # ################### 5. Clean #################################################### \n",
    "    # убираем признаки которые еще не успели обработать, \n",
    "    # модель на признаках с dtypes \"object\" обучаться не будет, просто выберим их и удалим\n",
    "    df_output.drop(['restaurant_id','city','cuisine_style','reviews','url_ta','id_ta','price_range','reviews_date','last_reviews_date',\n",
    "               'first_reviews_date'], axis = 1, inplace=True)\n",
    "    \n",
    "    return df_output"
   ]
  },
  {
   "cell_type": "markdown",
   "metadata": {},
   "source": [
    "#### Запускаем и проверяем что получилось"
   ]
  },
  {
   "cell_type": "code",
   "execution_count": null,
   "metadata": {
    "execution": {
     "iopub.execute_input": "2021-08-28T15:55:04.844546Z",
     "iopub.status.busy": "2021-08-28T15:55:04.844085Z",
     "iopub.status.idle": "2021-08-28T15:55:04.896840Z",
     "shell.execute_reply": "2021-08-28T15:55:04.895585Z",
     "shell.execute_reply.started": "2021-08-28T15:55:04.844492Z"
    }
   },
   "outputs": [],
   "source": [
    "df_preproc = data \n",
    "df_preproc.sample(10)"
   ]
  },
  {
   "cell_type": "code",
   "execution_count": null,
   "metadata": {
    "execution": {
     "iopub.execute_input": "2021-08-28T15:55:04.899146Z",
     "iopub.status.busy": "2021-08-28T15:55:04.898491Z",
     "iopub.status.idle": "2021-08-28T15:55:04.937020Z",
     "shell.execute_reply": "2021-08-28T15:55:04.935609Z",
     "shell.execute_reply.started": "2021-08-28T15:55:04.899066Z"
    }
   },
   "outputs": [],
   "source": [
    "df_preproc.info()"
   ]
  },
  {
   "cell_type": "code",
   "execution_count": null,
   "metadata": {
    "execution": {
     "iopub.execute_input": "2021-08-28T15:55:04.939008Z",
     "iopub.status.busy": "2021-08-28T15:55:04.938684Z",
     "iopub.status.idle": "2021-08-28T15:55:05.045716Z",
     "shell.execute_reply": "2021-08-28T15:55:05.044388Z",
     "shell.execute_reply.started": "2021-08-28T15:55:04.938953Z"
    }
   },
   "outputs": [],
   "source": [
    "# Теперь выделим тестовую часть\n",
    "train_data = df_preproc.query('sample == 1').drop(['sample'], axis=1)\n",
    "test_data = df_preproc.query('sample == 0').drop(['sample'], axis=1)\n",
    "\n",
    "y = train_data.Rating.values            # наш таргет\n",
    "X = train_data.drop(['Rating'], axis=1)"
   ]
  },
  {
   "cell_type": "markdown",
   "metadata": {},
   "source": [
    "**Перед тем как отправлять наши данные на обучение, разделим данные на еще один тест и трейн, для валидации. \n",
    "Это поможет нам проверить, как хорошо наша модель работает, до отправки submissiona на kaggle.**"
   ]
  },
  {
   "cell_type": "code",
   "execution_count": null,
   "metadata": {
    "execution": {
     "iopub.execute_input": "2021-08-28T15:55:05.048578Z",
     "iopub.status.busy": "2021-08-28T15:55:05.048141Z",
     "iopub.status.idle": "2021-08-28T15:55:05.120979Z",
     "shell.execute_reply": "2021-08-28T15:55:05.119699Z",
     "shell.execute_reply.started": "2021-08-28T15:55:05.048478Z"
    }
   },
   "outputs": [],
   "source": [
    "# Воспользуемся специальной функцие train_test_split для разбивки тестовых данных\n",
    "# выделим 20% данных на валидацию (параметр test_size)\n",
    "X_train, X_test, y_train, y_test = train_test_split(X, y, test_size=0.2, random_state=RANDOM_SEED)"
   ]
  },
  {
   "cell_type": "code",
   "execution_count": null,
   "metadata": {
    "execution": {
     "iopub.execute_input": "2021-08-28T15:55:05.123266Z",
     "iopub.status.busy": "2021-08-28T15:55:05.122847Z",
     "iopub.status.idle": "2021-08-28T15:55:05.133603Z",
     "shell.execute_reply": "2021-08-28T15:55:05.131508Z",
     "shell.execute_reply.started": "2021-08-28T15:55:05.123192Z"
    }
   },
   "outputs": [],
   "source": [
    "# проверяем\n",
    "test_data.shape, train_data.shape, X.shape, X_train.shape, X_test.shape"
   ]
  },
  {
   "cell_type": "markdown",
   "metadata": {},
   "source": [
    "# Model \n",
    "Сам ML"
   ]
  },
  {
   "cell_type": "code",
   "execution_count": null,
   "metadata": {
    "execution": {
     "iopub.execute_input": "2021-08-28T15:55:05.137061Z",
     "iopub.status.busy": "2021-08-28T15:55:05.136115Z",
     "iopub.status.idle": "2021-08-28T15:55:05.197446Z",
     "shell.execute_reply": "2021-08-28T15:55:05.196129Z",
     "shell.execute_reply.started": "2021-08-28T15:55:05.136552Z"
    }
   },
   "outputs": [],
   "source": [
    "# Импортируем необходимые библиотеки:\n",
    "from sklearn.ensemble import RandomForestRegressor # инструмент для создания и обучения модели\n",
    "from sklearn import metrics # инструменты для оценки точности модели"
   ]
  },
  {
   "cell_type": "code",
   "execution_count": null,
   "metadata": {
    "execution": {
     "iopub.execute_input": "2021-08-28T15:55:05.199923Z",
     "iopub.status.busy": "2021-08-28T15:55:05.199397Z",
     "iopub.status.idle": "2021-08-28T15:55:05.206608Z",
     "shell.execute_reply": "2021-08-28T15:55:05.205395Z",
     "shell.execute_reply.started": "2021-08-28T15:55:05.199767Z"
    }
   },
   "outputs": [],
   "source": [
    "# Создаём модель (НАСТРОЙКИ НЕ ТРОГАЕМ)\n",
    "model = RandomForestRegressor(n_estimators=100, verbose=1, n_jobs=-1, random_state=RANDOM_SEED)"
   ]
  },
  {
   "cell_type": "code",
   "execution_count": null,
   "metadata": {
    "execution": {
     "iopub.execute_input": "2021-08-28T15:55:05.208557Z",
     "iopub.status.busy": "2021-08-28T15:55:05.208201Z",
     "iopub.status.idle": "2021-08-28T15:55:22.108615Z",
     "shell.execute_reply": "2021-08-28T15:55:22.107366Z",
     "shell.execute_reply.started": "2021-08-28T15:55:05.208483Z"
    }
   },
   "outputs": [],
   "source": [
    "# Обучаем модель на тестовом наборе данных\n",
    "model.fit(X_train, y_train)\n",
    "\n",
    "# Используем обученную модель для предсказания рейтинга ресторанов в тестовой выборке.\n",
    "# Предсказанные значения записываем в переменную y_pred\n",
    "y_pred = model.predict(X_test)"
   ]
  },
  {
   "cell_type": "code",
   "execution_count": null,
   "metadata": {
    "execution": {
     "iopub.execute_input": "2021-08-28T15:55:22.110408Z",
     "iopub.status.busy": "2021-08-28T15:55:22.110144Z",
     "iopub.status.idle": "2021-08-28T15:55:22.119631Z",
     "shell.execute_reply": "2021-08-28T15:55:22.118237Z",
     "shell.execute_reply.started": "2021-08-28T15:55:22.110362Z"
    }
   },
   "outputs": [],
   "source": [
    "# Сравниваем предсказанные значения (y_pred) с реальными (y_test), и смотрим насколько они в среднем отличаются\n",
    "# Метрика называется Mean Absolute Error (MAE) и показывает среднее отклонение предсказанных значений от фактических.\n",
    "print('MAE:', metrics.mean_absolute_error(y_test, y_pred))"
   ]
  },
  {
   "cell_type": "code",
   "execution_count": null,
   "metadata": {
    "execution": {
     "iopub.execute_input": "2021-08-28T15:55:22.121874Z",
     "iopub.status.busy": "2021-08-28T15:55:22.121545Z",
     "iopub.status.idle": "2021-08-28T15:55:22.608039Z",
     "shell.execute_reply": "2021-08-28T15:55:22.606238Z",
     "shell.execute_reply.started": "2021-08-28T15:55:22.121822Z"
    }
   },
   "outputs": [],
   "source": [
    "# в RandomForestRegressor есть возможность вывести самые важные признаки для модели\n",
    "plt.rcParams['figure.figsize'] = (10,10)\n",
    "feat_importances = pd.Series(model.feature_importances_, index=X.columns)\n",
    "feat_importances.nlargest(15).plot(kind='barh')"
   ]
  },
  {
   "cell_type": "markdown",
   "metadata": {},
   "source": [
    "# Submission\n",
    "Если все устраевает - готовим Submission на кагл"
   ]
  },
  {
   "cell_type": "code",
   "execution_count": null,
   "metadata": {
    "execution": {
     "iopub.execute_input": "2021-08-28T15:55:22.611124Z",
     "iopub.status.busy": "2021-08-28T15:55:22.610291Z",
     "iopub.status.idle": "2021-08-28T15:55:22.665478Z",
     "shell.execute_reply": "2021-08-28T15:55:22.663573Z",
     "shell.execute_reply.started": "2021-08-28T15:55:22.610647Z"
    }
   },
   "outputs": [],
   "source": [
    "test_data.sample(10)"
   ]
  },
  {
   "cell_type": "code",
   "execution_count": null,
   "metadata": {
    "execution": {
     "iopub.execute_input": "2021-08-28T15:55:22.668192Z",
     "iopub.status.busy": "2021-08-28T15:55:22.667737Z",
     "iopub.status.idle": "2021-08-28T15:55:22.680357Z",
     "shell.execute_reply": "2021-08-28T15:55:22.678707Z",
     "shell.execute_reply.started": "2021-08-28T15:55:22.668118Z"
    }
   },
   "outputs": [],
   "source": [
    "test_data = test_data.drop(['Rating'], axis=1)"
   ]
  },
  {
   "cell_type": "code",
   "execution_count": null,
   "metadata": {
    "execution": {
     "iopub.execute_input": "2021-08-28T15:55:22.683275Z",
     "iopub.status.busy": "2021-08-28T15:55:22.682524Z",
     "iopub.status.idle": "2021-08-28T15:55:22.706534Z",
     "shell.execute_reply": "2021-08-28T15:55:22.705254Z",
     "shell.execute_reply.started": "2021-08-28T15:55:22.683056Z"
    }
   },
   "outputs": [],
   "source": [
    "sample_submission"
   ]
  },
  {
   "cell_type": "code",
   "execution_count": null,
   "metadata": {
    "execution": {
     "iopub.execute_input": "2021-08-28T15:55:22.708480Z",
     "iopub.status.busy": "2021-08-28T15:55:22.708183Z",
     "iopub.status.idle": "2021-08-28T15:55:22.934885Z",
     "shell.execute_reply": "2021-08-28T15:55:22.933771Z",
     "shell.execute_reply.started": "2021-08-28T15:55:22.708428Z"
    }
   },
   "outputs": [],
   "source": [
    "predict_submission = model.predict(test_data)"
   ]
  },
  {
   "cell_type": "code",
   "execution_count": null,
   "metadata": {
    "execution": {
     "iopub.execute_input": "2021-08-28T15:55:22.936755Z",
     "iopub.status.busy": "2021-08-28T15:55:22.936380Z",
     "iopub.status.idle": "2021-08-28T15:55:22.944019Z",
     "shell.execute_reply": "2021-08-28T15:55:22.942638Z",
     "shell.execute_reply.started": "2021-08-28T15:55:22.936682Z"
    }
   },
   "outputs": [],
   "source": [
    "predict_submission"
   ]
  },
  {
   "cell_type": "code",
   "execution_count": null,
   "metadata": {
    "execution": {
     "iopub.execute_input": "2021-08-28T15:55:22.946089Z",
     "iopub.status.busy": "2021-08-28T15:55:22.945641Z",
     "iopub.status.idle": "2021-08-28T15:55:23.197365Z",
     "shell.execute_reply": "2021-08-28T15:55:23.196134Z",
     "shell.execute_reply.started": "2021-08-28T15:55:22.946032Z"
    }
   },
   "outputs": [],
   "source": [
    "sample_submission['Rating'] = predict_submission\n",
    "sample_submission.to_csv('submission.csv', index=False)\n",
    "sample_submission.head(10)"
   ]
  },
  {
   "cell_type": "markdown",
   "metadata": {},
   "source": [
    "# What's next?\n",
    "Или что делать, чтоб улучшить результат:\n",
    "* Обработать оставшиеся признаки в понятный для машины формат\n",
    "* Посмотреть, что еще можно извлечь из признаков\n",
    "* Сгенерировать новые признаки\n",
    "* Подгрузить дополнительные данные, например: по населению или благосостоянию городов\n",
    "* Подобрать состав признаков\n",
    "\n",
    "В общем, процесс творческий и весьма увлекательный! Удачи в соревновании!\n"
   ]
  },
  {
   "cell_type": "code",
   "execution_count": null,
   "metadata": {},
   "outputs": [],
   "source": []
  }
 ],
 "metadata": {
  "kernelspec": {
   "display_name": "Python 3",
   "language": "python",
   "name": "python3"
  },
  "language_info": {
   "codemirror_mode": {
    "name": "ipython",
    "version": 3
   },
   "file_extension": ".py",
   "mimetype": "text/x-python",
   "name": "python",
   "nbconvert_exporter": "python",
   "pygments_lexer": "ipython3",
   "version": "3.8.5"
  }
 },
 "nbformat": 4,
 "nbformat_minor": 4
}
